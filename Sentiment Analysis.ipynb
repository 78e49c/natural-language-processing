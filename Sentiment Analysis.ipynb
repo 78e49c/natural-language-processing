{
 "cells": [
  {
   "cell_type": "markdown",
   "metadata": {},
   "source": [
    "# Sentiment Analysis\n",
    "\n",
    "Task 1: Write a function (word_vector) that takes in 3 strings(words), performs a -b + c arithmetic, \n",
    "and returns a top-ten closest results (cosine similarity) after performing vector arithmetic on your \n",
    "own words. The goal is to come as close to an expected word as possible.\n",
    "\n",
    "Task 2: Write a function to perform VADER Sentiment Analysis on your own review. The function \n",
    "returns a set of “SentimentIntensityAnalyzer” polarity scores based on written review. Consider \n",
    "returning a score of \"Positive\" , \"Negative\" or \"Neutral\" "
   ]
  },
  {
   "cell_type": "markdown",
   "metadata": {},
   "source": [
    "### Task 1"
   ]
  },
  {
   "cell_type": "code",
   "execution_count": 4,
   "metadata": {},
   "outputs": [],
   "source": [
    "import spacy \n",
    "from scipy import spatial\n",
    "\n",
    "nlp = spacy.load('en_core_web_md')\n",
    "cosine_similarity = lambda x, y: 1 - spatial.distance.cosine(x, y)"
   ]
  },
  {
   "cell_type": "code",
   "execution_count": 5,
   "metadata": {},
   "outputs": [],
   "source": [
    "def word_vector(a,b,c):\n",
    "    vec_a = nlp.vocab[a].vector\n",
    "    vec_b = nlp.vocab[b].vector\n",
    "    vec_c = nlp.vocab[c].vector\n",
    "\n",
    "    new_vector = vec_a - vec_b + vec_c\n",
    "    \n",
    "    computed_similarities = []\n",
    "\n",
    "    for word in nlp.vocab:\n",
    "        if word.has_vector:\n",
    "            if word.is_lower:\n",
    "                if word.is_alpha:\n",
    "                    similarity = cosine_similarity(word.vector, new_vector)\n",
    "                    computed_similarities.append((word.text, similarity))\n",
    "\n",
    "    computed_similarities = sorted(computed_similarities, key=lambda item: -item[1])\n",
    "    print ([w[0] for w in computed_similarities[:10]])"
   ]
  },
  {
   "cell_type": "code",
   "execution_count": 7,
   "metadata": {},
   "outputs": [
    {
     "name": "stdout",
     "output_type": "stream",
     "text": [
      "['animal', 'sport', 'lovin', 'these', 'and', 'that', 'those', 'are', 'there', 'this']\n"
     ]
    }
   ],
   "source": [
    "\n",
    "# Test the function on known words:\n",
    "word_vector('sport','ball','animal')"
   ]
  },
  {
   "cell_type": "markdown",
   "metadata": {},
   "source": [
    "### Task 2"
   ]
  },
  {
   "cell_type": "code",
   "execution_count": 8,
   "metadata": {},
   "outputs": [],
   "source": [
    "import nltk\n",
    "#nltk.download('vader_lexicon')\n",
    "\n",
    "from nltk.sentiment.vader import SentimentIntensityAnalyzer\n",
    "\n",
    "sid = SentimentIntensityAnalyzer()"
   ]
  },
  {
   "cell_type": "code",
   "execution_count": 9,
   "metadata": {},
   "outputs": [],
   "source": [
    "review = \"For sure I did not expect a high level of fun from this game, but I can't even get that fun. It is too tiring for its fun. I've been playing to not feel and not think anything but I feel annoyed now. Maybe my expectations was a little odd but anyway I didn't like much\""
   ]
  },
  {
   "cell_type": "code",
   "execution_count": 10,
   "metadata": {},
   "outputs": [
    {
     "data": {
      "text/plain": [
       "{'neg': 0.131, 'neu': 0.641, 'pos': 0.228, 'compound': 0.7449}"
      ]
     },
     "execution_count": 10,
     "metadata": {},
     "output_type": "execute_result"
    }
   ],
   "source": [
    "sid.polarity_scores(review)"
   ]
  },
  {
   "cell_type": "code",
   "execution_count": 11,
   "metadata": {},
   "outputs": [],
   "source": [
    "def review_classification(string):\n",
    "    if sid.polarity_scores(string)['compound']<-0.5:\n",
    "        return('Negative')\n",
    "    elif sid.polarity_scores(string)['compound']>0.5:\n",
    "        return('Positive')\n",
    "    else:\n",
    "        return ('Neutral')"
   ]
  },
  {
   "cell_type": "code",
   "execution_count": 12,
   "metadata": {},
   "outputs": [
    {
     "data": {
      "text/plain": [
       "'Positive'"
      ]
     },
     "execution_count": 12,
     "metadata": {},
     "output_type": "execute_result"
    }
   ],
   "source": [
    "review_classification(review)"
   ]
  }
 ],
 "metadata": {
  "kernelspec": {
   "display_name": "Python 3 (ipykernel)",
   "language": "python",
   "name": "python3"
  },
  "language_info": {
   "codemirror_mode": {
    "name": "ipython",
    "version": 3
   },
   "file_extension": ".py",
   "mimetype": "text/x-python",
   "name": "python",
   "nbconvert_exporter": "python",
   "pygments_lexer": "ipython3",
   "version": "3.11.5"
  }
 },
 "nbformat": 4,
 "nbformat_minor": 2
}
